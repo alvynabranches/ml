{
 "cells": [
  {
   "cell_type": "code",
   "execution_count": 3,
   "metadata": {},
   "outputs": [],
   "source": [
    "import numpy as np\n",
    "import pandas as pd\n",
    "from sklearn.linear_model import LinearRegression\n",
    "from sklearn.metrics import mean_squared_error\n",
    "from math import sqrt\n",
    "import matplotlib.pyplot as plt"
   ]
  },
  {
   "cell_type": "code",
   "execution_count": 4,
   "metadata": {},
   "outputs": [],
   "source": [
    "ds = pd.read_csv('2017.csv')"
   ]
  },
  {
   "cell_type": "code",
   "execution_count": 5,
   "metadata": {},
   "outputs": [],
   "source": [
    "x = ds['Economy..GDP.per.Capita.'].values.reshape(-1,1)\n",
    "y = ds['Happiness.Score'].values.reshape(-1,1)"
   ]
  },
  {
   "cell_type": "code",
   "execution_count": 4,
   "metadata": {},
   "outputs": [],
   "source": [
    "lr = LinearRegression()"
   ]
  },
  {
   "cell_type": "code",
   "execution_count": 5,
   "metadata": {},
   "outputs": [
    {
     "data": {
      "text/plain": [
       "LinearRegression(copy_X=True, fit_intercept=True, n_jobs=None, normalize=False)"
      ]
     },
     "execution_count": 5,
     "metadata": {},
     "output_type": "execute_result"
    }
   ],
   "source": [
    "lr.fit(x,y)"
   ]
  },
  {
   "cell_type": "code",
   "execution_count": 6,
   "metadata": {},
   "outputs": [
    {
     "name": "stdout",
     "output_type": "stream",
     "text": [
      "Beta 0: [3.20321268]\n",
      "Beta 1: [[2.18418495]]\n"
     ]
    }
   ],
   "source": [
    "print(\"Beta 0: {}\\nBeta 1: {}\".format(lr.intercept_,lr.coef_))"
   ]
  },
  {
   "cell_type": "code",
   "execution_count": 7,
   "metadata": {},
   "outputs": [],
   "source": [
    "y_pred_regression_fit = lr.predict(x)"
   ]
  },
  {
   "cell_type": "code",
   "execution_count": 8,
   "metadata": {},
   "outputs": [
    {
     "name": "stdout",
     "output_type": "stream",
     "text": [
      "RMSE regression fit: 0.6573815994500275\n"
     ]
    }
   ],
   "source": [
    "rmse = sqrt(mean_squared_error(y,y_pred_regression_fit))\n",
    "print(\"RMSE regression fit: {}\".format(rmse))"
   ]
  },
  {
   "cell_type": "markdown",
   "metadata": {},
   "source": [
    "                Gradient Descent"
   ]
  },
  {
   "cell_type": "code",
   "execution_count": 9,
   "metadata": {},
   "outputs": [],
   "source": [
    "# weights initialized randomly\n",
    "b_0, b_1 = 0,1"
   ]
  },
  {
   "cell_type": "code",
   "execution_count": 10,
   "metadata": {},
   "outputs": [],
   "source": [
    "h_x = []\n",
    "n = len(x)\n",
    "g_b_0 = 0\n",
    "g_b_1 = 0\n",
    "err_fun = []\n",
    "err = 0"
   ]
  },
  {
   "cell_type": "code",
   "execution_count": 11,
   "metadata": {},
   "outputs": [],
   "source": [
    "# predicted values for the parameters initialized randomly\n",
    "h_x = [(b_0 + b_1 * x[i]) for i in range(n)]"
   ]
  },
  {
   "cell_type": "code",
   "execution_count": 12,
   "metadata": {},
   "outputs": [
    {
     "name": "stdout",
     "output_type": "stream",
     "text": [
      "RMSE: 4.446306388852043\n"
     ]
    }
   ],
   "source": [
    "# error is high so gradient descent is used\n",
    "rmse_g = sqrt(mean_squared_error(y,h_x))\n",
    "print(\"RMSE: {}\".format(rmse_g))"
   ]
  },
  {
   "cell_type": "code",
   "execution_count": 13,
   "metadata": {},
   "outputs": [
    {
     "data": {
      "text/plain": [
       "155"
      ]
     },
     "execution_count": 13,
     "metadata": {},
     "output_type": "execute_result"
    }
   ],
   "source": [
    "len(x)"
   ]
  },
  {
   "cell_type": "code",
   "execution_count": 1,
   "metadata": {},
   "outputs": [
    {
     "ename": "NameError",
     "evalue": "name 'rmse_g' is not defined",
     "output_type": "error",
     "traceback": [
      "\u001b[1;31m---------------------------------------------------------------------------\u001b[0m",
      "\u001b[1;31mNameError\u001b[0m                                 Traceback (most recent call last)",
      "\u001b[1;32m<ipython-input-1-edf0c0ac6b09>\u001b[0m in \u001b[0;36m<module>\u001b[1;34m\u001b[0m\n\u001b[0;32m      1\u001b[0m \u001b[0mc\u001b[0m \u001b[1;33m=\u001b[0m \u001b[1;36m0\u001b[0m\u001b[1;33m\u001b[0m\u001b[1;33m\u001b[0m\u001b[0m\n\u001b[0;32m      2\u001b[0m \u001b[1;31m# list of rmse\u001b[0m\u001b[1;33m\u001b[0m\u001b[1;33m\u001b[0m\u001b[1;33m\u001b[0m\u001b[0m\n\u001b[1;32m----> 3\u001b[1;33m \u001b[0mrmse_lis\u001b[0m \u001b[1;33m=\u001b[0m \u001b[1;33m[\u001b[0m\u001b[0mrmse_g\u001b[0m\u001b[1;33m]\u001b[0m\u001b[1;33m\u001b[0m\u001b[1;33m\u001b[0m\u001b[0m\n\u001b[0m\u001b[0;32m      4\u001b[0m \u001b[1;33m\u001b[0m\u001b[0m\n\u001b[0;32m      5\u001b[0m \u001b[0mb_0_plot\u001b[0m \u001b[1;33m=\u001b[0m \u001b[1;33m[\u001b[0m\u001b[1;33m]\u001b[0m\u001b[1;33m\u001b[0m\u001b[1;33m\u001b[0m\u001b[0m\n",
      "\u001b[1;31mNameError\u001b[0m: name 'rmse_g' is not defined"
     ]
    }
   ],
   "source": [
    "c = 0\n",
    "# list of rmse\n",
    "rmse_lis = [rmse_g]\n",
    "\n",
    "b_0_plot = []\n",
    "b_1_plot = []\n",
    "tolerance = 0.00001\n",
    "eta = 0.00000001\n",
    "while 1:\n",
    "    \n",
    "    err = 0\n",
    "    for j in range(n):\n",
    "        \n",
    "        derv_b0 = (y[j]-h_x[j])\n",
    "        derv_b1 = (y[j]-h_x[j])*x[j]\n",
    "        g_b_0 = g_b_0 - derv_b0\n",
    "        g_b_1 = g_b_1 - derv_b1\n",
    "        err += ((y[j]-h_x[j])**2)\n",
    "    err_fun.append(1/2*1/n*err)\n",
    "    \n",
    "    #new b0\n",
    "    b_0 = b_0 - (eta * g_b_0)\n",
    "    #new b1\n",
    "    b_1 = b_1 - (eta * g_b_1)\n",
    "    #new model\n",
    "    h_x = [(b_0 + b_1 * x[i]) for i in range(n)]\n",
    "    rmse_g = sqrt(mean_squared_error(y,h_x))\n",
    "    b_0_plot.append(b_0)\n",
    "    b_1_plot.append(b_1)\n",
    "    \n",
    "    if c>=1:\n",
    "        if abs(err_fun[c]-err_fun[c-1])<tolerance:\n",
    "            rmse_lis.append(rmse_g)\n",
    "            c+=1\n",
    "            break\n",
    "    print(err_fun[c])\n",
    "    c+=1\n",
    "    rmse_lis.append(rmse_g)"
   ]
  },
  {
   "cell_type": "code",
   "execution_count": 15,
   "metadata": {
    "scrolled": false
   },
   "outputs": [
    {
     "name": "stdout",
     "output_type": "stream",
     "text": [
      "No. of iterations: 4396\n",
      "RMSE Gradient fit: 0.6575992427077946\n"
     ]
    }
   ],
   "source": [
    "print(\"No. of iterations: {}\\nRMSE Gradient fit: {}\".format(c,rmse_g))"
   ]
  },
  {
   "cell_type": "code",
   "execution_count": 16,
   "metadata": {},
   "outputs": [
    {
     "name": "stdout",
     "output_type": "stream",
     "text": [
      "Beta 0: [3.24078443]\n",
      "Beta 1: [2.1596737]\n"
     ]
    }
   ],
   "source": [
    "print(\"Beta 0: {}\\nBeta 1: {}\".format(b_0,b_1))"
   ]
  },
  {
   "cell_type": "code",
   "execution_count": 17,
   "metadata": {
    "scrolled": true
   },
   "outputs": [
    {
     "data": {
      "image/png": "[encoded data removed]",
      "text/plain": [
       "<Figure size 432x288 with 1 Axes>"
      ]
     },
     "metadata": {
      "needs_background": "light"
     },
     "output_type": "display_data"
    }
   ],
   "source": [
    "plt.scatter(x, y, color = 'red', marker='o', label='Actual')\n",
    "plt.plot(x, h_x, color = 'blue', label='Predicted gradient fit',marker='x')\n",
    "plt.plot(x, y_pred_regression_fit, color = 'yellow', label='Predicted regression fit')\n",
    "\n",
    "plt.title('Economy..GDP.per.Capita. vs Happiness Score')\n",
    "plt.legend()\n",
    "plt.xlabel('Economy..GDP.per.Capita.')\n",
    "plt.ylabel('Happiness Score')\n",
    "plt.show()"
   ]
  },
  {
   "cell_type": "code",
   "execution_count": 18,
   "metadata": {},
   "outputs": [
    {
     "name": "stdout",
     "output_type": "stream",
     "text": [
      "Predicted Value using gradient:\n",
      "[array([6.73181745]), array([6.44224803]), array([6.43846862]), array([6.62062961]), array([6.35842875]), array([6.4888141]), array([6.4353833]), array([6.27665081]), array([6.46817331]), array([6.44663632]), array([6.21116167]), array([5.6373879]), array([6.45242928]), array([6.58019994]), array([6.55740967]), array([6.45421343]), array([6.40207324]), array([7.0028142]), array([6.35424333]), array([5.9463904]), array([6.75315543]), array([5.63230603]), array([6.16213693]), array([5.80063587]), array([5.73128519]), array([6.895552]), array([6.14183057]), array([5.87031608]), array([5.1240241]), array([5.90527848]), array([6.33111219]), array([5.67661295]), array([6.33694995]), array([6.23063209]), array([7.28102788]), array([5.55297931]), array([6.54643186]), array([6.18086896]), array([6.76742889]), array([6.10320204]), array([6.45526924]), array([6.02938841]), array([4.83311013]), array([5.40222992]), array([5.20562208]), array([6.0306247]), array([4.93924056]), array([6.25367311]), array([6.00900687]), array([5.20171484]), array([6.30085887]), array([6.07985335]), array([5.5988554]), array([5.96359008]), array([6.2679525]), array([4.81490716]), array([5.87058435]), array([5.04142656]), array([5.68289326]), array([6.01500682]), array([6.14967336]), array([6.13735165]), array([5.47653322]), array([5.80949071]), array([6.16916823]), array([6.0934528]), array([5.73857137]), array([5.62031953]), array([5.82866608]), array([5.25476075]), array([6.59189578]), array([5.09313487]), array([5.55016148]), array([5.38104783]), array([6.01815058]), array([5.23973372]), array([5.88110697]), array([5.29568022]), array([5.57574975]), array([4.81061567]), array([5.39082294]), array([5.67782762]), array([5.66205732]), array([5.1372254]), array([5.73218782]), array([5.57187972]), array([6.02565663]), array([5.56240673]), array([6.08113392]), array([5.36246821]), array([4.81858398]), array([5.5399254]), array([3.28968632]), array([4.94378989]), array([4.9334422]), array([4.37399467]), array([5.15299492]), array([4.52842525]), array([4.27703948]), array([5.45927871]), array([5.51858948]), array([5.4161499]), array([4.78764905]), array([5.37821739]), array([5.74915707]), array([4.03645342]), array([4.45949989]), array([5.73925285]), array([5.39223572]), array([4.50782822]), array([5.32364788]), array([4.45123718]), array([3.74680818]), array([4.03362343]), array([4.27593552]), array([4.61521541]), array([5.62227926]), array([5.82852757]), array([3.97341884]), array([5.42173123]), array([5.18577952]), array([4.95172382]), array([4.64124058]), array([4.98788325]), array([5.2937976]), array([3.43969545]), array([4.26917892]), array([4.54317332]), array([4.54040068]), array([4.66512528]), array([4.68177233]), array([5.17294071]), array([4.06455031]), array([3.99716201]), array([3.59049031]), array([3.74494306]), array([4.18674956]), array([4.05249031]), array([4.36602031]), array([5.09470919]), array([4.10784422]), array([5.66414166]), array([4.17178825]), array([3.90123142]), array([4.03686232]), array([4.51862761]), array([4.09871184]), array([3.49787586]), array([3.76893248]), array([3.90044535]), array([4.03715524]), array([4.91918161]), array([4.34467114]), array([3.43865928]), array([3.24078443])]\n",
      "Predicted Value using regression:\n",
      "[[6.73386724]\n",
      " [6.44101134]\n",
      " [6.43718904]\n",
      " [6.62141746]\n",
      " [6.35624075]\n",
      " [6.48810592]\n",
      " [6.4340687 ]\n",
      " [6.27353467]\n",
      " [6.46723086]\n",
      " [6.44544944]\n",
      " [6.20730227]\n",
      " [5.62701644]\n",
      " [6.45130814]\n",
      " [6.58052893]\n",
      " [6.55748001]\n",
      " [6.45311254]\n",
      " [6.40038059]\n",
      " [7.00793967]\n",
      " [6.35200783]\n",
      " [5.93952597]\n",
      " [6.75544739]\n",
      " [5.6218769 ]\n",
      " [6.15772111]\n",
      " [5.79211719]\n",
      " [5.72197942]\n",
      " [6.89946009]\n",
      " [6.13718428]\n",
      " [5.86258824]\n",
      " [5.10782621]\n",
      " [5.89794744]\n",
      " [6.32861417]\n",
      " [5.66668667]\n",
      " [6.33451817]\n",
      " [6.22699366]\n",
      " [7.28931093]\n",
      " [5.54164985]\n",
      " [6.54637761]\n",
      " [6.17666575]\n",
      " [6.76988285]\n",
      " [6.09811734]\n",
      " [6.45418034]\n",
      " [6.02346597]\n",
      " [4.8136105 ]\n",
      " [5.38918953]\n",
      " [5.19035028]\n",
      " [6.02471629]\n",
      " [4.92094547]\n",
      " [6.25029619]\n",
      " [6.00285311]\n",
      " [5.1863987 ]\n",
      " [6.29801749]\n",
      " [6.07450366]\n",
      " [5.58804661]\n",
      " [5.95692085]\n",
      " [6.26473764]\n",
      " [4.79520094]\n",
      " [5.86285955]\n",
      " [5.02429122]\n",
      " [5.67303827]\n",
      " [6.00892115]\n",
      " [6.14511609]\n",
      " [6.13265454]\n",
      " [5.46433614]\n",
      " [5.80107253]\n",
      " [6.16483222]\n",
      " [6.08825745]\n",
      " [5.72934829]\n",
      " [5.60975435]\n",
      " [5.82046553]\n",
      " [5.24004665]\n",
      " [6.59235752]\n",
      " [5.0765864 ]\n",
      " [5.53880004]\n",
      " [5.36776704]\n",
      " [6.01210059]\n",
      " [5.22484908]\n",
      " [5.8735016 ]\n",
      " [5.28143055]\n",
      " [5.56467873]\n",
      " [4.79086075]\n",
      " [5.37765309]\n",
      " [5.66791512]\n",
      " [5.65196585]\n",
      " [5.12117733]\n",
      " [5.72289229]\n",
      " [5.56076477]\n",
      " [6.01969183]\n",
      " [5.55118426]\n",
      " [6.07579876]\n",
      " [5.34897654]\n",
      " [4.79891949]\n",
      " [5.52844779]\n",
      " [3.25266958]\n",
      " [4.92554643]\n",
      " [4.9150813 ]\n",
      " [4.34928431]\n",
      " [5.13712583]\n",
      " [4.5054676 ]\n",
      " [4.25122872]\n",
      " [5.4468858 ]\n",
      " [5.50686972]\n",
      " [5.40326749]\n",
      " [4.76763346]\n",
      " [5.36490447]\n",
      " [5.74005414]\n",
      " [4.00791213]\n",
      " [4.43575997]\n",
      " [5.73003751]\n",
      " [5.3790819 ]\n",
      " [4.48463681]\n",
      " [5.30971562]\n",
      " [4.42740349]\n",
      " [3.71497956]\n",
      " [4.00505002]\n",
      " [4.25011223]\n",
      " [4.59324279]\n",
      " [5.61173633]\n",
      " [5.82032545]\n",
      " [3.94416214]\n",
      " [5.40891217]\n",
      " [5.17028252]\n",
      " [4.93357041]\n",
      " [4.61956333]\n",
      " [4.97014023]\n",
      " [5.27952655]\n",
      " [3.40438125]\n",
      " [4.24327895]\n",
      " [4.52038306]\n",
      " [4.51757895]\n",
      " [4.64371911]\n",
      " [4.6605551 ]\n",
      " [5.157298  ]\n",
      " [4.03632791]\n",
      " [3.96817478]\n",
      " [3.55688755]\n",
      " [3.71309327]\n",
      " [4.15991406]\n",
      " [4.02413103]\n",
      " [4.34121945]\n",
      " [5.07817859]\n",
      " [4.08011318]\n",
      " [5.65407384]\n",
      " [4.14478294]\n",
      " [3.87115543]\n",
      " [4.00832567]\n",
      " [4.49555876]\n",
      " [4.07087715]\n",
      " [3.46322198]\n",
      " [3.73735496]\n",
      " [3.87036044]\n",
      " [4.00862191]\n",
      " [4.90065886]\n",
      " [4.31962797]\n",
      " [3.40333332]\n",
      " [3.20321268]]\n",
      "Actual Value:\n",
      "[[7.53700018]\n",
      " [7.52199984]\n",
      " [7.50400019]\n",
      " [7.49399996]\n",
      " [7.46899986]\n",
      " [7.37699986]\n",
      " [7.31599998]\n",
      " [7.31400013]\n",
      " [7.28399992]\n",
      " [7.28399992]\n",
      " [7.21299982]\n",
      " [7.079     ]\n",
      " [7.00600004]\n",
      " [6.99300003]\n",
      " [6.97700024]\n",
      " [6.95100021]\n",
      " [6.89099979]\n",
      " [6.86299992]\n",
      " [6.71400023]\n",
      " [6.65199995]\n",
      " [6.64799976]\n",
      " [6.63500023]\n",
      " [6.60900021]\n",
      " [6.59899998]\n",
      " [6.57800007]\n",
      " [6.57200003]\n",
      " [6.52699995]\n",
      " [6.454     ]\n",
      " [6.454     ]\n",
      " [6.45200014]\n",
      " [6.44199991]\n",
      " [6.42399979]\n",
      " [6.42199993]\n",
      " [6.40299988]\n",
      " [6.375     ]\n",
      " [6.35699987]\n",
      " [6.34399986]\n",
      " [6.16800022]\n",
      " [6.10500002]\n",
      " [6.09800005]\n",
      " [6.08699989]\n",
      " [6.08400011]\n",
      " [6.0710001 ]\n",
      " [6.0079999 ]\n",
      " [6.00299978]\n",
      " [5.97300005]\n",
      " [5.97100019]\n",
      " [5.96400023]\n",
      " [5.96299982]\n",
      " [5.95599985]\n",
      " [5.92000008]\n",
      " [5.90199995]\n",
      " [5.87200022]\n",
      " [5.8499999 ]\n",
      " [5.83799982]\n",
      " [5.83799982]\n",
      " [5.82499981]\n",
      " [5.82299995]\n",
      " [5.82200003]\n",
      " [5.81899977]\n",
      " [5.80999994]\n",
      " [5.7579999 ]\n",
      " [5.71500015]\n",
      " [5.62900019]\n",
      " [5.62099981]\n",
      " [5.61100006]\n",
      " [5.56899977]\n",
      " [5.5250001 ]\n",
      " [5.5       ]\n",
      " [5.49300003]\n",
      " [5.47200012]\n",
      " [5.42999983]\n",
      " [5.39499998]\n",
      " [5.33599997]\n",
      " [5.32399988]\n",
      " [5.31099987]\n",
      " [5.29300022]\n",
      " [5.27899981]\n",
      " [5.27299976]\n",
      " [5.26900005]\n",
      " [5.26200008]\n",
      " [5.25      ]\n",
      " [5.23699999]\n",
      " [5.23500013]\n",
      " [5.23400021]\n",
      " [5.23000002]\n",
      " [5.22700024]\n",
      " [5.2249999 ]\n",
      " [5.19500017]\n",
      " [5.18200016]\n",
      " [5.18100023]\n",
      " [5.17500019]\n",
      " [5.15100002]\n",
      " [5.07399988]\n",
      " [5.07399988]\n",
      " [5.04099989]\n",
      " [5.01100016]\n",
      " [5.00400019]\n",
      " [4.96199989]\n",
      " [4.95499992]\n",
      " [4.829     ]\n",
      " [4.80499983]\n",
      " [4.7750001 ]\n",
      " [4.73500013]\n",
      " [4.71400023]\n",
      " [4.70900011]\n",
      " [4.69500017]\n",
      " [4.69199991]\n",
      " [4.64400005]\n",
      " [4.6079998 ]\n",
      " [4.57399988]\n",
      " [4.55299997]\n",
      " [4.55000019]\n",
      " [4.54500008]\n",
      " [4.53499985]\n",
      " [4.51399994]\n",
      " [4.49700022]\n",
      " [4.46500015]\n",
      " [4.46000004]\n",
      " [4.44000006]\n",
      " [4.37599993]\n",
      " [4.31500006]\n",
      " [4.29199982]\n",
      " [4.29099989]\n",
      " [4.28599977]\n",
      " [4.28000021]\n",
      " [4.19000006]\n",
      " [4.17999983]\n",
      " [4.16800022]\n",
      " [4.13899994]\n",
      " [4.11999989]\n",
      " [4.09600019]\n",
      " [4.08099985]\n",
      " [4.03200006]\n",
      " [4.02799988]\n",
      " [3.97000003]\n",
      " [3.93600011]\n",
      " [3.875     ]\n",
      " [3.80800009]\n",
      " [3.79500008]\n",
      " [3.79399991]\n",
      " [3.76600003]\n",
      " [3.65700006]\n",
      " [3.64400005]\n",
      " [3.60299993]\n",
      " [3.59299994]\n",
      " [3.59100008]\n",
      " [3.53299999]\n",
      " [3.50699997]\n",
      " [3.49499989]\n",
      " [3.47099996]\n",
      " [3.46199989]\n",
      " [3.34899998]\n",
      " [2.90499997]\n",
      " [2.69300008]]\n"
     ]
    }
   ],
   "source": [
    "print(\"Predicted Value using gradient:\\n{}\\nPredicted Value using regression:\\n{}\\nActual Value:\\n{}\".format(h_x,y_pred_regression_fit,y))"
   ]
  },
  {
   "cell_type": "code",
   "execution_count": 19,
   "metadata": {},
   "outputs": [
    {
     "data": {
      "text/plain": [
       "(155, 155, 155)"
      ]
     },
     "execution_count": 19,
     "metadata": {},
     "output_type": "execute_result"
    }
   ],
   "source": [
    "len(h_x),len(y_pred_regression_fit),len(y)"
   ]
  },
  {
   "cell_type": "code",
   "execution_count": 20,
   "metadata": {},
   "outputs": [],
   "source": [
    "from mpl_toolkits.mplot3d import Axes3D"
   ]
  },
  {
   "cell_type": "code",
   "execution_count": 21,
   "metadata": {},
   "outputs": [
    {
     "data": {
      "image/png": "[encoded data removed]",
      "text/plain": [
       "<Figure size 432x288 with 1 Axes>"
      ]
     },
     "metadata": {
      "needs_background": "light"
     },
     "output_type": "display_data"
    }
   ],
   "source": [
    "fig = plt.figure()\n",
    "ax = fig.add_subplot(111, projection='3d')\n",
    "ax.scatter(b_0_plot,b_1_plot,err_fun,c='r',marker='.')\n",
    "ax.set_xlabel('Beta 0')\n",
    "ax.set_ylabel('Beta 1')\n",
    "ax.set_zlabel('Cost')\n",
    "plt.show()"
   ]
  },
  {
   "cell_type": "code",
   "execution_count": 22,
   "metadata": {},
   "outputs": [
    {
     "data": {
      "image/png": "[encoded data removed]",
      "text/plain": [
       "<Figure size 432x288 with 1 Axes>"
      ]
     },
     "metadata": {
      "needs_background": "light"
     },
     "output_type": "display_data"
    }
   ],
   "source": [
    "plt.scatter(x,y,c='r')\n",
    "plt.plot(x,y_pred_regression_fit)\n",
    "plt.xlabel('Economy..GDP.per.Capita.')\n",
    "plt.ylabel('Happiness Score')\n",
    "plt.show()"
   ]
  },
  {
   "cell_type": "code",
   "execution_count": 23,
   "metadata": {},
   "outputs": [
    {
     "data": {
      "image/png": "[encoded data removed]",
      "text/plain": [
       "<Figure size 432x288 with 1 Axes>"
      ]
     },
     "metadata": {
      "needs_background": "light"
     },
     "output_type": "display_data"
    }
   ],
   "source": [
    "plt.plot(x,y)\n",
    "plt.show()"
   ]
  },
  {
   "cell_type": "code",
   "execution_count": null,
   "metadata": {},
   "outputs": [],
   "source": []
  },
  {
   "cell_type": "code",
   "execution_count": null,
   "metadata": {},
   "outputs": [],
   "source": []
  }
 ],
 "metadata": {
  "kernelspec": {
   "display_name": "Python 3",
   "language": "python",
   "name": "python3"
  },
  "language_info": {
   "codemirror_mode": {
    "name": "ipython",
    "version": 3
   },
   "file_extension": ".py",
   "mimetype": "text/x-python",
   "name": "python",
   "nbconvert_exporter": "python",
   "pygments_lexer": "ipython3",
   "version": "3.7.5"
  }
 },
 "nbformat": 4,
 "nbformat_minor": 2
}
